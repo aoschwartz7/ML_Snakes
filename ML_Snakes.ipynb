{
 "cells": [
  {
   "cell_type": "markdown",
   "metadata": {},
   "source": [
    "Install dependencies:"
   ]
  },
  {
   "cell_type": "markdown",
   "metadata": {},
   "source": [
    "*run these on commandline*\n",
    "- pip install tensorflow\n",
    "- pip install imageai --upgrade\n",
    "- git clone https://github.com/tzutalin/labelImg.git\n",
    "- pip install pyqt5 lxml # Install qt and lxml by pip\n",
    "- brew install qt qt5\n",
    "- brew install libxml2\n",
    "- brew install pyqt5\n",
    "- pyrcc5 -o libs/resources.py resources.qrc"
   ]
  },
  {
   "cell_type": "markdown",
   "metadata": {},
   "source": [
    "Use labelIMG tool to annotate images for training:\n",
    "\n",
    "- python3 labelImg.py\n",
    "\n",
    "Create a folder called \"images\"\n",
    "Create a folder called \"annotations\"\n",
    "\n",
    "Then go to your LabelImg menu, select “View” and make sure “Auto Save Mode” is checked."
   ]
  }
 ],
 "metadata": {
  "kernelspec": {
   "display_name": "Python 3",
   "language": "python",
   "name": "python3"
  },
  "language_info": {
   "codemirror_mode": {
    "name": "ipython",
    "version": 3
   },
   "file_extension": ".py",
   "mimetype": "text/x-python",
   "name": "python",
   "nbconvert_exporter": "python",
   "pygments_lexer": "ipython3",
   "version": "3.7.7"
  }
 },
 "nbformat": 4,
 "nbformat_minor": 4
}
